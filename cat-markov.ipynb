{
 "cells": [
  {
   "cell_type": "markdown",
   "metadata": {},
   "source": [
    "# Chewbacca the Markov Cat"
   ]
  },
  {
   "cell_type": "code",
   "execution_count": 24,
   "metadata": {},
   "outputs": [],
   "source": [
    "import numpy as np\n",
    "import pandas as pd\n",
    "import networkx as nx\n",
    "import matplotlib.pyplot as plt\n",
    "%matplotlib inline"
   ]
  },
  {
   "cell_type": "code",
   "execution_count": 25,
   "metadata": {},
   "outputs": [
    {
     "name": "stdout",
     "output_type": "stream",
     "text": [
      "sleep                0.60\n",
      "eat                  0.05\n",
      "destroy_furniture    0.10\n",
      "make_videos          0.25\n",
      "Name: states, dtype: float64\n",
      "1.0\n"
     ]
    }
   ],
   "source": [
    "states = ['sleep', # cats sleep for 60% of their lives\n",
    "          'eat',   # cats are crepuscular, active during twilight\n",
    "          'destroy_furniture',  # cats contribute to 10.2% of annual revenues in the furniture industry\n",
    "          'make_videos'] # more than 2 million cat videos on YouTube\n",
    "pi = [0.6, 0.05, 0.1, 0.25]\n",
    "\n",
    "# create state space and initial state probabilities\n",
    "\n",
    "state_space = pd.Series(pi, index=states, name='states')\n",
    "print(state_space)\n",
    "print(state_space.sum())\n"
   ]
  },
  {
   "cell_type": "code",
   "execution_count": 26,
   "metadata": {},
   "outputs": [
    {
     "name": "stdout",
     "output_type": "stream",
     "text": [
      "                  sleep   eat destroy_furniture make_videos\n",
      "sleep               0.4   0.2              0.05        0.35\n",
      "eat                 0.8  0.05               0.1        0.05\n",
      "destroy_furniture   0.6  0.05               0.1        0.25\n",
      "make_videos         0.1   0.4               0.1         0.4\n",
      "\n",
      " [[0.4 0.2 0.05 0.35]\n",
      " [0.8 0.05 0.1 0.05]\n",
      " [0.6 0.05 0.1 0.25]\n",
      " [0.1 0.4 0.1 0.4]] (4, 4) \n",
      "\n",
      "sleep                1.0\n",
      "eat                  1.0\n",
      "destroy_furniture    1.0\n",
      "make_videos          1.0\n",
      "dtype: float64\n"
     ]
    }
   ],
   "source": [
    "# The next step is to define the transition probabilities. \n",
    "# They are simply the probabilities of staying in the same state \n",
    "# or moving to a different state given the current state. \n",
    "# create transition matrix\n",
    "# equals transition probability matrix of changing states given a state\n",
    "# matrix is size (M x M) where M is number of states\n",
    "\n",
    "q_df = pd.DataFrame(columns=states, index=states)\n",
    "#      {state} -> [sleeping, eating, dest_furn, make_vids]\n",
    "q_df.loc[states[0]] = [0.4, 0.2, 0.05, 0.35] # sleep \n",
    "q_df.loc[states[1]] = [0.8, 0.05, 0.1, 0.05] # eating\n",
    "q_df.loc[states[2]] = [0.6, 0.05, 0.1, 0.25] # dest_furn\n",
    "q_df.loc[states[3]] = [0.1, 0.4, 0.1, 0.4] #make_vids\n",
    "\n",
    "print(q_df)\n",
    "\n",
    "q = q_df.values\n",
    "print('\\n', q, q.shape, '\\n')\n",
    "print(q_df.sum(axis=1))"
   ]
  },
  {
   "cell_type": "code",
   "execution_count": 27,
   "metadata": {},
   "outputs": [],
   "source": [
    "from pprint import pprint \n",
    "\n",
    "# create a function that maps transition probability dataframe \n",
    "# to markov edges and weights\n",
    "\n",
    "def _get_markov_edges(Q):\n",
    "    edges = {}\n",
    "    for col in Q.columns:\n",
    "        for idx in Q.index:\n",
    "            edges[(idx,col)] = Q.loc[idx,col]\n",
    "    return edges\n",
    "\n",
    "edges_wts = _get_markov_edges(q_df)\n",
    "# pprint(edges_wts)"
   ]
  },
  {
   "cell_type": "code",
   "execution_count": 28,
   "metadata": {
    "scrolled": false
   },
   "outputs": [
    {
     "name": "stdout",
     "output_type": "stream",
     "text": [
      "Nodes:\n",
      "['sleep', 'eat', 'destroy_furniture', 'make_videos']\n",
      "\n",
      "Edges:\n",
      "OutMultiEdgeDataView([('sleep', 'sleep', {'weight': 0.4, 'label': 0.4}), ('sleep', 'eat', {'weight': 0.2, 'label': 0.2}), ('sleep', 'destroy_furniture', {'weight': 0.05, 'label': 0.05}), ('sleep', 'make_videos', {'weight': 0.35, 'label': 0.35}), ('eat', 'sleep', {'weight': 0.8, 'label': 0.8}), ('eat', 'eat', {'weight': 0.05, 'label': 0.05}), ('eat', 'destroy_furniture', {'weight': 0.1, 'label': 0.1}), ('eat', 'make_videos', {'weight': 0.05, 'label': 0.05}), ('destroy_furniture', 'sleep', {'weight': 0.6, 'label': 0.6}), ('destroy_furniture', 'eat', {'weight': 0.05, 'label': 0.05}), ('destroy_furniture', 'destroy_furniture', {'weight': 0.1, 'label': 0.1}), ('destroy_furniture', 'make_videos', {'weight': 0.25, 'label': 0.25}), ('make_videos', 'sleep', {'weight': 0.1, 'label': 0.1}), ('make_videos', 'eat', {'weight': 0.4, 'label': 0.4}), ('make_videos', 'destroy_furniture', {'weight': 0.1, 'label': 0.1}), ('make_videos', 'make_videos', {'weight': 0.4, 'label': 0.4})])\n"
     ]
    },
    {
     "data": {
      "image/png": "[encoded data removed]",
      "text/plain": [
       "<Figure size 432x288 with 1 Axes>"
      ]
     },
     "metadata": {},
     "output_type": "display_data"
    }
   ],
   "source": [
    "# create graph object\n",
    "G = nx.MultiDiGraph()\n",
    "\n",
    "# nodes correspond to states\n",
    "G.add_nodes_from(states)\n",
    "print(f'Nodes:\\n{G.nodes()}\\n')\n",
    "\n",
    "# edges represent transition probabilities\n",
    "for k, v in edges_wts.items():\n",
    "    tmp_origin, tmp_destination = k[0], k[1]\n",
    "    G.add_edge(tmp_origin, tmp_destination, weight=v, label=v)\n",
    "print(f'Edges:')\n",
    "pprint(G.edges(data=True))    \n",
    "\n",
    "pos = nx.drawing.nx_pydot.graphviz_layout(G, prog='dot')\n",
    "nx.draw_networkx(G, pos)\n",
    "\n",
    "# create edge labels for jupyter plot but is not necessary\n",
    "edge_labels = {(n1,n2):d['label'] for n1,n2,d in G.edges(data=True)}\n",
    "nx.draw_networkx_edge_labels(G , pos, edge_labels=edge_labels)\n",
    "nx.drawing.nx_pydot.write_dot(G, 'pet_cat_markov.dot')\n",
    "\n",
    "# Note: with dot installed we can view the graph using the following command\n",
    "# dot -Tps pet_cat_markov.dot -o pet_cat_markov.ps"
   ]
  },
  {
   "cell_type": "code",
   "execution_count": 35,
   "metadata": {},
   "outputs": [
    {
     "name": "stdout",
     "output_type": "stream",
     "text": [
      "increasing    0.5\n",
      "decreasing    0.5\n",
      "Name: states, dtype: float64\n",
      "\n",
      " 1.0\n"
     ]
    }
   ],
   "source": [
    "# assume our cat is acting weirdly relative to youtube viewership\n",
    "# cat is grumpy when subscribers and viewers decline, happy otherwise\n",
    "# create state space and initial state probabilities\n",
    "\n",
    "hidden_states = ['increasing', 'decreasing']  # \n",
    "pi = [0.5, 0.5]\n",
    "state_space = pd.Series(pi, index=hidden_states, name='states')\n",
    "print(state_space)\n",
    "print('\\n', state_space.sum())"
   ]
  },
  {
   "cell_type": "code",
   "execution_count": 36,
   "metadata": {},
   "outputs": [
    {
     "name": "stdout",
     "output_type": "stream",
     "text": [
      "           increasing decreasing\n",
      "increasing        0.7        0.3\n",
      "decreasing        0.4        0.6\n",
      "\n",
      " [[0.7 0.3]\n",
      " [0.4 0.6]] (2, 2) \n",
      "\n",
      "increasing    1.0\n",
      "decreasing    1.0\n",
      "dtype: float64\n"
     ]
    }
   ],
   "source": [
    "# create hidden transition matrix\n",
    "# a or alpha \n",
    "#   = transition probability matrix of changing states given a state\n",
    "# matrix is size (M x M) where M is number of states\n",
    "\n",
    "a_df = pd.DataFrame(columns=hidden_states, index=hidden_states)\n",
    "a_df.loc[hidden_states[0]] = [0.7, 0.3]\n",
    "a_df.loc[hidden_states[1]] = [0.4, 0.6]\n",
    "\n",
    "print(a_df)\n",
    "\n",
    "a = a_df.values\n",
    "print('\\n', a, a.shape, '\\n')\n",
    "print(a_df.sum(axis=1))"
   ]
  },
  {
   "cell_type": "code",
   "execution_count": 37,
   "metadata": {},
   "outputs": [
    {
     "data": {
      "text/plain": [
       "\"\\nThis is where it gets a little more interesting. \\nNow we create the emission or observation probability matrix. \\nThis matrix is size M x O where M is the number of hidden states and O is the number of possible observable states. \\n\\nThe emission matrix tells us the probability the dog is in one of the hidden states, \\ngiven the current, observable state. \\n\\nLet's keep the same observable states from the previous example. \\nThe dog can be either sleeping, eating, or pooping. \\nFor now we make our best guess to fill in the probabilities. \\n\""
      ]
     },
     "execution_count": 37,
     "metadata": {},
     "output_type": "execute_result"
    }
   ],
   "source": [
    "# based on Chewbacca's behaviors, can we guess how his Youtube channel is doing?\n",
    "'''\n",
    "This is where it gets a little more interesting. \n",
    "Now we create the emission or observation probability matrix. \n",
    "This matrix is size M x O where M is the number of hidden states and O is the number of possible observable states. \n",
    "\n",
    "The emission matrix tells us the probability the dog is in one of the hidden states, \n",
    "given the current, observable state. \n",
    "\n",
    "Let's keep the same observable states from the previous example. \n",
    "The dog can be either sleeping, eating, or pooping. \n",
    "For now we make our best guess to fill in the probabilities. \n",
    "'''\n",
    "\n"
   ]
  },
  {
   "cell_type": "code",
   "execution_count": 41,
   "metadata": {},
   "outputs": [
    {
     "name": "stdout",
     "output_type": "stream",
     "text": [
      "           sleep   eat destroy_furniture make_videos\n",
      "increasing   0.5   0.2              0.05        0.25\n",
      "decreasing   0.2  0.05               0.4        0.35\n",
      "\n",
      " [[0.5 0.2 0.05 0.25]\n",
      " [0.2 0.05 0.4 0.35]] (2, 4) \n",
      "\n",
      "increasing    1.0\n",
      "decreasing    1.0\n",
      "dtype: float64\n"
     ]
    }
   ],
   "source": [
    "# create matrix of observation (emission) probabilities\n",
    "# b or beta = observation probabilities given state\n",
    "# matrix is size (M x O) where M is number of states \n",
    "# and O is number of different possible observations\n",
    "\n",
    "observable_states = states\n",
    "\n",
    "b_df = pd.DataFrame(columns=observable_states, index=hidden_states)\n",
    "b_df.loc[hidden_states[0]] = [0.5, 0.2, 0.05, 0.25]\n",
    "b_df.loc[hidden_states[1]] = [0.2, 0.05, 0.4, 0.35]\n",
    "\n",
    "print(b_df)\n",
    "\n",
    "b = b_df.values\n",
    "print('\\n', b, b.shape, '\\n')\n",
    "print(b_df.sum(axis=1))"
   ]
  },
  {
   "cell_type": "code",
   "execution_count": 42,
   "metadata": {},
   "outputs": [
    {
     "name": "stdout",
     "output_type": "stream",
     "text": [
      "{('decreasing', 'decreasing'): 0.6,\n",
      " ('decreasing', 'increasing'): 0.4,\n",
      " ('increasing', 'decreasing'): 0.3,\n",
      " ('increasing', 'increasing'): 0.7}\n",
      "{('decreasing', 'destroy_furniture'): 0.4,\n",
      " ('decreasing', 'eat'): 0.05,\n",
      " ('decreasing', 'make_videos'): 0.35,\n",
      " ('decreasing', 'sleep'): 0.2,\n",
      " ('increasing', 'destroy_furniture'): 0.05,\n",
      " ('increasing', 'eat'): 0.2,\n",
      " ('increasing', 'make_videos'): 0.25,\n",
      " ('increasing', 'sleep'): 0.5}\n"
     ]
    }
   ],
   "source": [
    "# create graph edges and weights\n",
    "\n",
    "hide_edges_wts = _get_markov_edges(a_df)\n",
    "pprint(hide_edges_wts)\n",
    "\n",
    "emit_edges_wts = _get_markov_edges(b_df)\n",
    "pprint(emit_edges_wts)"
   ]
  },
  {
   "cell_type": "code",
   "execution_count": 43,
   "metadata": {},
   "outputs": [
    {
     "name": "stdout",
     "output_type": "stream",
     "text": [
      "Nodes:\n",
      "['increasing', 'decreasing']\n",
      "\n",
      "Edges:\n",
      "OutMultiEdgeDataView([('increasing', 'increasing', {'weight': 0.7, 'label': 0.7}), ('increasing', 'decreasing', {'weight': 0.3, 'label': 0.3}), ('increasing', 'sleep', {'weight': 0.5, 'label': 0.5}), ('increasing', 'eat', {'weight': 0.2, 'label': 0.2}), ('increasing', 'destroy_furniture', {'weight': 0.05, 'label': 0.05}), ('increasing', 'make_videos', {'weight': 0.25, 'label': 0.25}), ('decreasing', 'increasing', {'weight': 0.4, 'label': 0.4}), ('decreasing', 'decreasing', {'weight': 0.6, 'label': 0.6}), ('decreasing', 'sleep', {'weight': 0.2, 'label': 0.2}), ('decreasing', 'eat', {'weight': 0.05, 'label': 0.05}), ('decreasing', 'destroy_furniture', {'weight': 0.4, 'label': 0.4}), ('decreasing', 'make_videos', {'weight': 0.35, 'label': 0.35})])\n"
     ]
    },
    {
     "data": {
      "image/png": "[encoded data removed]",
      "text/plain": [
       "<Figure size 432x288 with 1 Axes>"
      ]
     },
     "metadata": {},
     "output_type": "display_data"
    }
   ],
   "source": [
    "# create graph object\n",
    "G = nx.MultiDiGraph()\n",
    "\n",
    "# nodes correspond to states\n",
    "G.add_nodes_from(hidden_states)\n",
    "print(f'Nodes:\\n{G.nodes()}\\n')\n",
    "\n",
    "# edges represent hidden probabilities\n",
    "for k, v in hide_edges_wts.items():\n",
    "    tmp_origin, tmp_destination = k[0], k[1]\n",
    "    G.add_edge(tmp_origin, tmp_destination, weight=v, label=v)\n",
    "\n",
    "# edges represent emission probabilities\n",
    "for k, v in emit_edges_wts.items():\n",
    "    tmp_origin, tmp_destination = k[0], k[1]\n",
    "    G.add_edge(tmp_origin, tmp_destination, weight=v, label=v)\n",
    "    \n",
    "print(f'Edges:')\n",
    "pprint(G.edges(data=True))    \n",
    "\n",
    "pos = nx.drawing.nx_pydot.graphviz_layout(G, prog='neato')\n",
    "nx.draw_networkx(G, pos)\n",
    "\n",
    "# create edge labels for jupyter plot but is not necessary\n",
    "emit_edge_labels = {(n1,n2):d['label'] for n1,n2,d in G.edges(data=True)}\n",
    "nx.draw_networkx_edge_labels(G , pos, edge_labels=emit_edge_labels)\n",
    "nx.drawing.nx_pydot.write_dot(G, 'pet_cat_hidden_markov.dot')\n",
    "\n",
    "# Note: with dot installed we can view the graph using the following command\n",
    "# dot -Tps pet_cat_hidden_markov.dot -o pet_cat_hidden_markov.ps"
   ]
  },
  {
   "cell_type": "code",
   "execution_count": 61,
   "metadata": {},
   "outputs": [
    {
     "name": "stdout",
     "output_type": "stream",
     "text": [
      "   Obs_code            Obs_seq\n",
      "0         0              sleep\n",
      "1         0              sleep\n",
      "2         3        make_videos\n",
      "3         2  destroy_furniture\n",
      "4         3        make_videos\n",
      "5         1                eat\n",
      "6         3        make_videos\n",
      "7         1                eat\n",
      "8         0              sleep\n",
      "9         1                eat\n",
      "10        3        make_videos\n",
      "11        0              sleep\n",
      "12        2  destroy_furniture\n",
      "13        0              sleep\n",
      "14        1                eat\n"
     ]
    }
   ],
   "source": [
    "# Now, what if you needed to discern whether cat can pay rent by monetizing from Youtube\n",
    "\n",
    "# observation sequence of dog's behaviors\n",
    "# observations are encoded numerically\n",
    "\n",
    "obs_map = {'sleep': 0, 'eat': 1, 'destroy_furniture': 2, 'make_videos': 3}\n",
    "# obs = np.array([1,1,2,1,0,1,2,1,0,2,2,0,1,0,1])\n",
    "obs = np.random.randint(4, size=15)\n",
    "\n",
    "inv_obs_map = dict((v,k) for k, v in obs_map.items())\n",
    "obs_seq = [inv_obs_map[v] for v in list(obs)]\n",
    "\n",
    "print( pd.DataFrame(np.column_stack([obs, obs_seq]), \n",
    "                columns=['Obs_code', 'Obs_seq']) )\n"
   ]
  },
  {
   "cell_type": "code",
   "execution_count": 62,
   "metadata": {},
   "outputs": [
    {
     "name": "stdout",
     "output_type": "stream",
     "text": [
      "\n",
      "Start Walk Forward\n",
      "\n",
      "s=0 and t=1: phi[0, 1] = 0.0\n",
      "s=1 and t=1: phi[1, 1] = 0.0\n",
      "s=0 and t=2: phi[0, 2] = 0.0\n",
      "s=1 and t=2: phi[1, 2] = 0.0\n",
      "s=0 and t=3: phi[0, 3] = 0.0\n",
      "s=1 and t=3: phi[1, 3] = 1.0\n",
      "s=0 and t=4: phi[0, 4] = 1.0\n",
      "s=1 and t=4: phi[1, 4] = 1.0\n",
      "s=0 and t=5: phi[0, 5] = 1.0\n",
      "s=1 and t=5: phi[1, 5] = 1.0\n",
      "s=0 and t=6: phi[0, 6] = 0.0\n",
      "s=1 and t=6: phi[1, 6] = 0.0\n",
      "s=0 and t=7: phi[0, 7] = 0.0\n",
      "s=1 and t=7: phi[1, 7] = 1.0\n",
      "s=0 and t=8: phi[0, 8] = 0.0\n",
      "s=1 and t=8: phi[1, 8] = 0.0\n",
      "s=0 and t=9: phi[0, 9] = 0.0\n",
      "s=1 and t=9: phi[1, 9] = 0.0\n",
      "s=0 and t=10: phi[0, 10] = 0.0\n",
      "s=1 and t=10: phi[1, 10] = 0.0\n",
      "s=0 and t=11: phi[0, 11] = 0.0\n",
      "s=1 and t=11: phi[1, 11] = 1.0\n",
      "s=0 and t=12: phi[0, 12] = 0.0\n",
      "s=1 and t=12: phi[1, 12] = 0.0\n",
      "s=0 and t=13: phi[0, 13] = 1.0\n",
      "s=1 and t=13: phi[1, 13] = 1.0\n",
      "s=0 and t=14: phi[0, 14] = 0.0\n",
      "s=1 and t=14: phi[1, 14] = 1.0\n",
      "--------------------------------------------------\n",
      "Start Backtrace\n",
      "\n",
      "path[13] = 0.0\n",
      "path[12] = 1.0\n",
      "path[11] = 0.0\n",
      "path[10] = 0.0\n",
      "path[9] = 0.0\n",
      "path[8] = 0.0\n",
      "path[7] = 0.0\n",
      "path[6] = 0.0\n",
      "path[5] = 0.0\n",
      "path[4] = 1.0\n",
      "path[3] = 1.0\n",
      "path[2] = 1.0\n",
      "path[1] = 0.0\n",
      "path[0] = 0.0\n",
      "\n",
      "single best state path: \n",
      " [0. 0. 1. 1. 1. 0. 0. 0. 0. 0. 0. 0. 1. 0. 0.]\n",
      "delta:\n",
      " [[2.50000000e-01 8.75000000e-02 1.53125000e-02 5.35937500e-04\n",
      "  2.20500000e-04 3.70440000e-05 6.48270000e-06 9.07578000e-07\n",
      "  3.17652300e-07 4.44713220e-08 7.78248135e-09 2.72386847e-09\n",
      "  9.53353965e-11 6.53728433e-11 9.15219807e-12]\n",
      " [1.00000000e-01 1.50000000e-02 9.18750000e-03 2.20500000e-03\n",
      "  4.63050000e-04 1.38915000e-05 3.88962000e-06 1.16688600e-07\n",
      "  5.44546800e-08 4.76478450e-09 4.66948881e-09 5.60338657e-10\n",
      "  3.26864217e-10 3.92237060e-11 1.17671118e-12]]\n",
      "phi:\n",
      " [[0. 0. 0. 0. 1. 1. 0. 0. 0. 0. 0. 0. 0. 1. 0.]\n",
      " [0. 0. 0. 1. 1. 1. 0. 1. 0. 0. 0. 1. 0. 1. 1.]]\n"
     ]
    }
   ],
   "source": [
    "# Using the Viterbi algorithm we can identify the most likely sequence of hidden \n",
    "# states given the sequence of observations.\n",
    "\n",
    "# define Viterbi algorithm for shortest path\n",
    "# code adapted from Stephen Marsland's, Machine Learning An Algorthmic Perspective, Vol. 2\n",
    "# https://github.com/alexsosn/MarslandMLAlgo/blob/master/Ch16/HMM.py\n",
    "\n",
    "def viterbi(pi, a, b, obs):\n",
    "    \n",
    "    nStates = np.shape(b)[0]\n",
    "    T = np.shape(obs)[0]\n",
    "    \n",
    "    # init blank path\n",
    "    path = np.zeros(T)\n",
    "    \n",
    "    # delta --> highest probability of any path that reaches state i\n",
    "    delta = np.zeros((nStates, T))\n",
    "    # phi --> argmax by time step for each state\n",
    "    phi = np.zeros((nStates, T))\n",
    "    \n",
    "    # init delta and phi \n",
    "    delta[:, 0] = pi * b[:, obs[0]]\n",
    "    phi[:, 0] = 0\n",
    "\n",
    "    print('\\nStart Walk Forward\\n')    \n",
    "    # the forward algorithm extension\n",
    "    for t in range(1, T):\n",
    "        for s in range(nStates):\n",
    "            delta[s, t] = np.max(delta[:, t-1] * a[:, s]) * b[s, obs[t]] \n",
    "            phi[s, t] = np.argmax(delta[:, t-1] * a[:, s])\n",
    "            print('s={s} and t={t}: phi[{s}, {t}] = {phi}'.format(s=s, t=t, phi=phi[s, t]))\n",
    "    \n",
    "    # find optimal path\n",
    "    print('-'*50)\n",
    "    print('Start Backtrace\\n')\n",
    "    path[T-1] = np.argmax(delta[:, T-1])\n",
    "    #p('init path\\n    t={} path[{}-1]={}\\n'.format(T-1, T, path[T-1]))\n",
    "    for t in range(T-2, -1, -1):\n",
    "        path[t] = phi[int(path[t+1]), [t+1]]\n",
    "        #p(' '*4 + 't={t}, path[{t}+1]={path}, [{t}+1]={i}'.format(t=t, path=path[t+1], i=[t+1]))\n",
    "        print('path[{}] = {}'.format(t, path[t]))\n",
    "        \n",
    "    return path, delta, phi\n",
    "\n",
    "# executing the viterbi algorithm\n",
    "path, delta, phi = viterbi(pi, a, b, obs)\n",
    "print('\\nsingle best state path: \\n', path)\n",
    "print('delta:\\n', delta)\n",
    "print('phi:\\n', phi)"
   ]
  },
  {
   "cell_type": "code",
   "execution_count": 63,
   "metadata": {},
   "outputs": [
    {
     "data": {
      "text/html": [
       "<div>\n",
       "<style scoped>\n",
       "    .dataframe tbody tr th:only-of-type {\n",
       "        vertical-align: middle;\n",
       "    }\n",
       "\n",
       "    .dataframe tbody tr th {\n",
       "        vertical-align: top;\n",
       "    }\n",
       "\n",
       "    .dataframe thead th {\n",
       "        text-align: right;\n",
       "    }\n",
       "</style>\n",
       "<table border=\"1\" class=\"dataframe\">\n",
       "  <thead>\n",
       "    <tr style=\"text-align: right;\">\n",
       "      <th></th>\n",
       "      <th>Observation</th>\n",
       "      <th>Best_Path</th>\n",
       "    </tr>\n",
       "  </thead>\n",
       "  <tbody>\n",
       "    <tr>\n",
       "      <th>0</th>\n",
       "      <td>sleep</td>\n",
       "      <td>increasing</td>\n",
       "    </tr>\n",
       "    <tr>\n",
       "      <th>1</th>\n",
       "      <td>sleep</td>\n",
       "      <td>increasing</td>\n",
       "    </tr>\n",
       "    <tr>\n",
       "      <th>2</th>\n",
       "      <td>make_videos</td>\n",
       "      <td>decreasing</td>\n",
       "    </tr>\n",
       "    <tr>\n",
       "      <th>3</th>\n",
       "      <td>destroy_furniture</td>\n",
       "      <td>decreasing</td>\n",
       "    </tr>\n",
       "    <tr>\n",
       "      <th>4</th>\n",
       "      <td>make_videos</td>\n",
       "      <td>decreasing</td>\n",
       "    </tr>\n",
       "    <tr>\n",
       "      <th>5</th>\n",
       "      <td>eat</td>\n",
       "      <td>increasing</td>\n",
       "    </tr>\n",
       "    <tr>\n",
       "      <th>6</th>\n",
       "      <td>make_videos</td>\n",
       "      <td>increasing</td>\n",
       "    </tr>\n",
       "    <tr>\n",
       "      <th>7</th>\n",
       "      <td>eat</td>\n",
       "      <td>increasing</td>\n",
       "    </tr>\n",
       "    <tr>\n",
       "      <th>8</th>\n",
       "      <td>sleep</td>\n",
       "      <td>increasing</td>\n",
       "    </tr>\n",
       "    <tr>\n",
       "      <th>9</th>\n",
       "      <td>eat</td>\n",
       "      <td>increasing</td>\n",
       "    </tr>\n",
       "    <tr>\n",
       "      <th>10</th>\n",
       "      <td>make_videos</td>\n",
       "      <td>increasing</td>\n",
       "    </tr>\n",
       "    <tr>\n",
       "      <th>11</th>\n",
       "      <td>sleep</td>\n",
       "      <td>increasing</td>\n",
       "    </tr>\n",
       "    <tr>\n",
       "      <th>12</th>\n",
       "      <td>destroy_furniture</td>\n",
       "      <td>decreasing</td>\n",
       "    </tr>\n",
       "    <tr>\n",
       "      <th>13</th>\n",
       "      <td>sleep</td>\n",
       "      <td>increasing</td>\n",
       "    </tr>\n",
       "    <tr>\n",
       "      <th>14</th>\n",
       "      <td>eat</td>\n",
       "      <td>increasing</td>\n",
       "    </tr>\n",
       "  </tbody>\n",
       "</table>\n",
       "</div>"
      ],
      "text/plain": [
       "          Observation   Best_Path\n",
       "0               sleep  increasing\n",
       "1               sleep  increasing\n",
       "2         make_videos  decreasing\n",
       "3   destroy_furniture  decreasing\n",
       "4         make_videos  decreasing\n",
       "5                 eat  increasing\n",
       "6         make_videos  increasing\n",
       "7                 eat  increasing\n",
       "8               sleep  increasing\n",
       "9                 eat  increasing\n",
       "10        make_videos  increasing\n",
       "11              sleep  increasing\n",
       "12  destroy_furniture  decreasing\n",
       "13              sleep  increasing\n",
       "14                eat  increasing"
      ]
     },
     "execution_count": 63,
     "metadata": {},
     "output_type": "execute_result"
    }
   ],
   "source": [
    "state_map = {0:'increasing', 1:'decreasing'}\n",
    "state_path = [state_map[v] for v in path]\n",
    "\n",
    "(pd.DataFrame()\n",
    " .assign(Observation=obs_seq)\n",
    " .assign(Best_Path=state_path))"
   ]
  },
  {
   "cell_type": "code",
   "execution_count": null,
   "metadata": {},
   "outputs": [],
   "source": []
  },
  {
   "cell_type": "code",
   "execution_count": null,
   "metadata": {},
   "outputs": [],
   "source": []
  }
 ],
 "metadata": {
  "kernelspec": {
   "display_name": "Python 3",
   "language": "python",
   "name": "python3"
  },
  "language_info": {
   "codemirror_mode": {
    "name": "ipython",
    "version": 3
   },
   "file_extension": ".py",
   "mimetype": "text/x-python",
   "name": "python",
   "nbconvert_exporter": "python",
   "pygments_lexer": "ipython3",
   "version": "3.6.1"
  }
 },
 "nbformat": 4,
 "nbformat_minor": 2
}
